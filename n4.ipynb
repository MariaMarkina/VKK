{
 "cells": [
  {
   "cell_type": "code",
   "execution_count": 1,
   "id": "7d6dad8d",
   "metadata": {},
   "outputs": [],
   "source": [
    "import pandas as pd\n",
    "import numpy as np\n",
    "import networkx as nx\n",
    "import matplotlib.pyplot as plt\n",
    "%matplotlib inline"
   ]
  },
  {
   "cell_type": "code",
   "execution_count": 2,
   "id": "3d695fa6",
   "metadata": {},
   "outputs": [],
   "source": [
    "excel_data = pd.read_excel('Analytic_test.xlsx',)"
   ]
  },
  {
   "cell_type": "code",
   "execution_count": 3,
   "id": "b37a52e9",
   "metadata": {},
   "outputs": [],
   "source": [
    "excel_data.rename(columns = {'Unnamed: 0' :'NaN', 'Unnamed: 1':'HID','Unnamed: 2': 'active_Red','Unnamed: 3': 'has_Green_id', 'Unnamed: 4':'has_Black_id', 'Unnamed: 5':'has_Blue_id', 'Unnamed: 6': 'Blue_activity_count','Unnamed: 7': 'Blue_gmv_total', 'Unnamed: 8':'Green_gvm_total','Unnamed: 9': 'Green_gvm_order_count', 'Unnamed: 10':'Black_gvm_total','Unnamed: 11': 'Black_gvm_order_count', 'Unnamed: 12': 'Red_android', 'Unnamed: 13':'Green_android', 'Unnamed: 14':'Black_android', 'Unnamed: 15':'Blue_android', 'Unnamed: 16':'Red_apple', 'Unnamed: 17':'Green_apple', 'Unnamed: 18':'Black_apple', 'Unnamed: 19':'Blue_apple', 'Unnamed: 20':'is_msk','Unnamed: 21': 'Red_web', 'Unnamed: 22':'Green_web', 'Unnamed: 23':'Black_web', 'Unnamed: 24':'Blue_web'}, inplace = True)"
   ]
  },
  {
   "cell_type": "code",
   "execution_count": 4,
   "id": "a165cb15",
   "metadata": {},
   "outputs": [],
   "source": [
    "excel_data.drop ( [0], axis= 0 , inplace= True )"
   ]
  },
  {
   "cell_type": "code",
   "execution_count": 5,
   "id": "0b45f91b",
   "metadata": {},
   "outputs": [
    {
     "data": {
      "text/html": [
       "<div>\n",
       "<style scoped>\n",
       "    .dataframe tbody tr th:only-of-type {\n",
       "        vertical-align: middle;\n",
       "    }\n",
       "\n",
       "    .dataframe tbody tr th {\n",
       "        vertical-align: top;\n",
       "    }\n",
       "\n",
       "    .dataframe thead th {\n",
       "        text-align: right;\n",
       "    }\n",
       "</style>\n",
       "<table border=\"1\" class=\"dataframe\">\n",
       "  <thead>\n",
       "    <tr style=\"text-align: right;\">\n",
       "      <th></th>\n",
       "      <th>NaN</th>\n",
       "      <th>HID</th>\n",
       "      <th>active_Red</th>\n",
       "      <th>has_Green_id</th>\n",
       "      <th>has_Black_id</th>\n",
       "      <th>has_Blue_id</th>\n",
       "      <th>Blue_activity_count</th>\n",
       "      <th>Blue_gmv_total</th>\n",
       "      <th>Green_gvm_total</th>\n",
       "      <th>Green_gvm_order_count</th>\n",
       "      <th>...</th>\n",
       "      <th>Blue_android</th>\n",
       "      <th>Red_apple</th>\n",
       "      <th>Green_apple</th>\n",
       "      <th>Black_apple</th>\n",
       "      <th>Blue_apple</th>\n",
       "      <th>is_msk</th>\n",
       "      <th>Red_web</th>\n",
       "      <th>Green_web</th>\n",
       "      <th>Black_web</th>\n",
       "      <th>Blue_web</th>\n",
       "    </tr>\n",
       "  </thead>\n",
       "  <tbody>\n",
       "    <tr>\n",
       "      <th>1</th>\n",
       "      <td>0.0</td>\n",
       "      <td>00003c7fb5e57ce673f1801f3679f5c25</td>\n",
       "      <td>0.0</td>\n",
       "      <td>0.0</td>\n",
       "      <td>0.0</td>\n",
       "      <td>1.0</td>\n",
       "      <td>2.0</td>\n",
       "      <td>0.0</td>\n",
       "      <td>0.0</td>\n",
       "      <td>0.0</td>\n",
       "      <td>...</td>\n",
       "      <td>0.0</td>\n",
       "      <td>0.0</td>\n",
       "      <td>0.0</td>\n",
       "      <td>0.0</td>\n",
       "      <td>0.0</td>\n",
       "      <td>0.0</td>\n",
       "      <td>0.0</td>\n",
       "      <td>0.0</td>\n",
       "      <td>0.0</td>\n",
       "      <td>0.0</td>\n",
       "    </tr>\n",
       "    <tr>\n",
       "      <th>2</th>\n",
       "      <td>1.0</td>\n",
       "      <td>00006b602533083e3bebfcbff08613931</td>\n",
       "      <td>1.0</td>\n",
       "      <td>0.0</td>\n",
       "      <td>0.0</td>\n",
       "      <td>0.0</td>\n",
       "      <td>0.0</td>\n",
       "      <td>0.0</td>\n",
       "      <td>0.0</td>\n",
       "      <td>0.0</td>\n",
       "      <td>...</td>\n",
       "      <td>0.0</td>\n",
       "      <td>0.0</td>\n",
       "      <td>0.0</td>\n",
       "      <td>0.0</td>\n",
       "      <td>0.0</td>\n",
       "      <td>0.0</td>\n",
       "      <td>1.0</td>\n",
       "      <td>0.0</td>\n",
       "      <td>0.0</td>\n",
       "      <td>0.0</td>\n",
       "    </tr>\n",
       "    <tr>\n",
       "      <th>3</th>\n",
       "      <td>2.0</td>\n",
       "      <td>0000736c3f76339196cb1cc759b8363b</td>\n",
       "      <td>1.0</td>\n",
       "      <td>0.0</td>\n",
       "      <td>0.0</td>\n",
       "      <td>0.0</td>\n",
       "      <td>0.0</td>\n",
       "      <td>0.0</td>\n",
       "      <td>0.0</td>\n",
       "      <td>0.0</td>\n",
       "      <td>...</td>\n",
       "      <td>0.0</td>\n",
       "      <td>1.0</td>\n",
       "      <td>0.0</td>\n",
       "      <td>1.0</td>\n",
       "      <td>0.0</td>\n",
       "      <td>0.0</td>\n",
       "      <td>0.0</td>\n",
       "      <td>0.0</td>\n",
       "      <td>0.0</td>\n",
       "      <td>0.0</td>\n",
       "    </tr>\n",
       "    <tr>\n",
       "      <th>4</th>\n",
       "      <td>3.0</td>\n",
       "      <td>00009bdcc5307b38efde8690b8bd658e</td>\n",
       "      <td>0.0</td>\n",
       "      <td>0.0</td>\n",
       "      <td>0.0</td>\n",
       "      <td>0.0</td>\n",
       "      <td>0.0</td>\n",
       "      <td>0.0</td>\n",
       "      <td>0.0</td>\n",
       "      <td>0.0</td>\n",
       "      <td>...</td>\n",
       "      <td>0.0</td>\n",
       "      <td>0.0</td>\n",
       "      <td>0.0</td>\n",
       "      <td>0.0</td>\n",
       "      <td>0.0</td>\n",
       "      <td>0.0</td>\n",
       "      <td>1.0</td>\n",
       "      <td>0.0</td>\n",
       "      <td>0.0</td>\n",
       "      <td>0.0</td>\n",
       "    </tr>\n",
       "    <tr>\n",
       "      <th>5</th>\n",
       "      <td>4.0</td>\n",
       "      <td>0000bc3186b7b31d9b35d3fbbb250b9f8</td>\n",
       "      <td>1.0</td>\n",
       "      <td>0.0</td>\n",
       "      <td>0.0</td>\n",
       "      <td>0.0</td>\n",
       "      <td>0.0</td>\n",
       "      <td>0.0</td>\n",
       "      <td>0.0</td>\n",
       "      <td>0.0</td>\n",
       "      <td>...</td>\n",
       "      <td>0.0</td>\n",
       "      <td>1.0</td>\n",
       "      <td>0.0</td>\n",
       "      <td>0.0</td>\n",
       "      <td>0.0</td>\n",
       "      <td>0.0</td>\n",
       "      <td>0.0</td>\n",
       "      <td>0.0</td>\n",
       "      <td>0.0</td>\n",
       "      <td>0.0</td>\n",
       "    </tr>\n",
       "  </tbody>\n",
       "</table>\n",
       "<p>5 rows × 25 columns</p>\n",
       "</div>"
      ],
      "text/plain": [
       "   NaN                                HID active_Red has_Green_id  \\\n",
       "1  0.0  00003c7fb5e57ce673f1801f3679f5c25        0.0          0.0   \n",
       "2  1.0  00006b602533083e3bebfcbff08613931        1.0          0.0   \n",
       "3  2.0   0000736c3f76339196cb1cc759b8363b        1.0          0.0   \n",
       "4  3.0   00009bdcc5307b38efde8690b8bd658e        0.0          0.0   \n",
       "5  4.0  0000bc3186b7b31d9b35d3fbbb250b9f8        1.0          0.0   \n",
       "\n",
       "  has_Black_id has_Blue_id Blue_activity_count Blue_gmv_total Green_gvm_total  \\\n",
       "1          0.0         1.0                 2.0            0.0             0.0   \n",
       "2          0.0         0.0                 0.0            0.0             0.0   \n",
       "3          0.0         0.0                 0.0            0.0             0.0   \n",
       "4          0.0         0.0                 0.0            0.0             0.0   \n",
       "5          0.0         0.0                 0.0            0.0             0.0   \n",
       "\n",
       "  Green_gvm_order_count  ... Blue_android Red_apple Green_apple Black_apple  \\\n",
       "1                   0.0  ...          0.0       0.0         0.0         0.0   \n",
       "2                   0.0  ...          0.0       0.0         0.0         0.0   \n",
       "3                   0.0  ...          0.0       1.0         0.0         1.0   \n",
       "4                   0.0  ...          0.0       0.0         0.0         0.0   \n",
       "5                   0.0  ...          0.0       1.0         0.0         0.0   \n",
       "\n",
       "  Blue_apple is_msk Red_web Green_web Black_web Blue_web  \n",
       "1        0.0    0.0     0.0       0.0       0.0      0.0  \n",
       "2        0.0    0.0     1.0       0.0       0.0      0.0  \n",
       "3        0.0    0.0     0.0       0.0       0.0      0.0  \n",
       "4        0.0    0.0     1.0       0.0       0.0      0.0  \n",
       "5        0.0    0.0     0.0       0.0       0.0      0.0  \n",
       "\n",
       "[5 rows x 25 columns]"
      ]
     },
     "execution_count": 5,
     "metadata": {},
     "output_type": "execute_result"
    }
   ],
   "source": [
    "excel_data.head()"
   ]
  },
  {
   "cell_type": "code",
   "execution_count": 25,
   "id": "59f293a2",
   "metadata": {
    "scrolled": true
   },
   "outputs": [
    {
     "name": "stderr",
     "output_type": "stream",
     "text": [
      "C:\\Users\\Мария\\AppData\\Local\\Temp\\ipykernel_10612\\1323045448.py:1: DeprecationWarning: `np.float` is a deprecated alias for the builtin `float`. To silence this warning, use `float` by itself. Doing this will not modify any behavior and is safe. If you specifically wanted the numpy scalar type, use `np.float64` here.\n",
      "Deprecated in NumPy 1.20; for more details and guidance: https://numpy.org/devdocs/release/1.20.0-notes.html#deprecations\n",
      "  excel_data = excel_data.astype({  'active_Red': np.float ,'has_Green_id': np.float, 'has_Black_id': np.float,\n",
      "C:\\Users\\Мария\\AppData\\Local\\Temp\\ipykernel_10612\\1323045448.py:2: DeprecationWarning: `np.float` is a deprecated alias for the builtin `float`. To silence this warning, use `float` by itself. Doing this will not modify any behavior and is safe. If you specifically wanted the numpy scalar type, use `np.float64` here.\n",
      "Deprecated in NumPy 1.20; for more details and guidance: https://numpy.org/devdocs/release/1.20.0-notes.html#deprecations\n",
      "  'has_Blue_id': np.float, 'Red_android': np.float, 'Green_android': np.float,\n",
      "C:\\Users\\Мария\\AppData\\Local\\Temp\\ipykernel_10612\\1323045448.py:3: DeprecationWarning: `np.float` is a deprecated alias for the builtin `float`. To silence this warning, use `float` by itself. Doing this will not modify any behavior and is safe. If you specifically wanted the numpy scalar type, use `np.float64` here.\n",
      "Deprecated in NumPy 1.20; for more details and guidance: https://numpy.org/devdocs/release/1.20.0-notes.html#deprecations\n",
      "  'Black_android': np.float, 'Blue_android': np.float, 'Red_apple': np.float,\n",
      "C:\\Users\\Мария\\AppData\\Local\\Temp\\ipykernel_10612\\1323045448.py:4: DeprecationWarning: `np.float` is a deprecated alias for the builtin `float`. To silence this warning, use `float` by itself. Doing this will not modify any behavior and is safe. If you specifically wanted the numpy scalar type, use `np.float64` here.\n",
      "Deprecated in NumPy 1.20; for more details and guidance: https://numpy.org/devdocs/release/1.20.0-notes.html#deprecations\n",
      "  'Green_apple': np.float, 'Black_apple': np.float, 'Blue_apple': np.float,\n",
      "C:\\Users\\Мария\\AppData\\Local\\Temp\\ipykernel_10612\\1323045448.py:5: DeprecationWarning: `np.float` is a deprecated alias for the builtin `float`. To silence this warning, use `float` by itself. Doing this will not modify any behavior and is safe. If you specifically wanted the numpy scalar type, use `np.float64` here.\n",
      "Deprecated in NumPy 1.20; for more details and guidance: https://numpy.org/devdocs/release/1.20.0-notes.html#deprecations\n",
      "  'Red_web': np.float,'Green_web': np.float, 'Black_gvm_total': np.float, 'Green_gvm_total': np.float, 'Blue_gmv_total': np.float, 'Black_web': np.float, 'Blue_web': np.float } ,\n"
     ]
    }
   ],
   "source": [
    "excel_data = excel_data.astype({  'active_Red': np.float ,'has_Green_id': np.float, 'has_Black_id': np.float, \n",
    "                                'has_Blue_id': np.float, 'Red_android': np.float, 'Green_android': np.float,\n",
    "                                'Black_android': np.float, 'Blue_android': np.float, 'Red_apple': np.float, \n",
    "                                'Green_apple': np.float, 'Black_apple': np.float, 'Blue_apple': np.float,\n",
    "                                'Red_web': np.float,'Green_web': np.float, 'Black_gvm_total': np.float, \n",
    "                                'Green_gvm_total': np.float, 'Blue_gmv_total': np.float, \n",
    "                                'Black_web': np.float, 'Blue_web': np.float } \n",
    "                                  )\n"
   ]
  },
  {
   "cell_type": "code",
   "execution_count": 30,
   "id": "53a04731",
   "metadata": {},
   "outputs": [],
   "source": [
    "Apple_users = excel_data['Black_apple' ].sum()\n",
    "Web_users = excel_data['Black_web' ].sum()\n",
    "Android_users = excel_data['Black_android' ].sum()"
   ]
  },
  {
   "cell_type": "code",
   "execution_count": 31,
   "id": "ff439ff6",
   "metadata": {},
   "outputs": [],
   "source": [
    "import matplotlib.pyplot as plt\n",
    "labels = ['Apple', 'Web', 'Android']\n",
    "values = [Apple_users, Web_users, Android_users]\n"
   ]
  },
  {
   "cell_type": "markdown",
   "id": "f8ab679f",
   "metadata": {},
   "source": [
    "Выведем процентное соотношение установленных приложений у компании Black"
   ]
  },
  {
   "cell_type": "code",
   "execution_count": 37,
   "id": "7615f3a0",
   "metadata": {
    "scrolled": true
   },
   "outputs": [
    {
     "data": {
      "image/png": "[encoded data removed]",
      "text/plain": [
       "<Figure size 432x288 with 1 Axes>"
      ]
     },
     "metadata": {},
     "output_type": "display_data"
    }
   ],
   "source": [
    "fig1, ax1 = plt.subplots()\n",
    "ax1.pie(values, labels=labels,  autopct='%1.1f%%', shadow=True)\n",
    "plt.show()"
   ]
  },
  {
   "cell_type": "code",
   "execution_count": 35,
   "id": "83ed1d54",
   "metadata": {},
   "outputs": [],
   "source": [
    "Таким образом, мы видим, что у компании Black больше всего пользователей с приложением Apple. "
   ]
  },
  {
   "cell_type": "code",
   "execution_count": null,
   "id": "3ef60c1c",
   "metadata": {},
   "outputs": [],
   "source": []
  }
 ],
 "metadata": {
  "kernelspec": {
   "display_name": "Python 3 (ipykernel)",
   "language": "python",
   "name": "python3"
  },
  "language_info": {
   "codemirror_mode": {
    "name": "ipython",
    "version": 3
   },
   "file_extension": ".py",
   "mimetype": "text/x-python",
   "name": "python",
   "nbconvert_exporter": "python",
   "pygments_lexer": "ipython3",
   "version": "3.9.12"
  }
 },
 "nbformat": 4,
 "nbformat_minor": 5
}
